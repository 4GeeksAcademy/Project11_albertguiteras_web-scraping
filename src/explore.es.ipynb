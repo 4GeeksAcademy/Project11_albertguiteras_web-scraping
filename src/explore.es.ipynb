{
    "cells": [
        {
            "cell_type": "markdown",
            "metadata": {},
            "source": [
                "# Explora aquí\n",
                "\n",
                "Se recomienda utilizar este cuaderno con fines de exploración."
            ]
        },
        {
            "cell_type": "code",
            "execution_count": 2,
            "metadata": {},
            "outputs": [],
            "source": [
                "import os\n",
                "from bs4 import BeautifulSoup\n",
                "import requests\n",
                "import time\n",
                "import sqlite3\n",
                "import matplotlib.pyplot as plt\n",
                "import seaborn as sns"
            ]
        },
        {
            "cell_type": "code",
            "execution_count": 3,
            "metadata": {},
            "outputs": [],
            "source": [
                "from selenium import webdriver\n",
                "from selenium.webdriver.common.by import By\n",
                "from selenium.webdriver.chrome.service import Service\n",
                "from webdriver_manager.chrome import ChromeDriverManager\n",
                "import time"
            ]
        },
        {
            "cell_type": "code",
            "execution_count": 4,
            "metadata": {},
            "outputs": [
                {
                    "data": {
                        "text/plain": [
                            "['2024',\n",
                            " '$97.15 B',\n",
                            " '0.39%',\n",
                            " '2023',\n",
                            " '$96.77 B',\n",
                            " '18.8%',\n",
                            " '2022',\n",
                            " '$81.46 B',\n",
                            " '51.35%',\n",
                            " '2021',\n",
                            " '$53.82 B',\n",
                            " '70.67%',\n",
                            " '2020',\n",
                            " '$31.53 B',\n",
                            " '28.31%',\n",
                            " '2019',\n",
                            " '$24.57 B',\n",
                            " '14.52%',\n",
                            " '2018',\n",
                            " '$21.46 B',\n",
                            " '82.51%',\n",
                            " '2017',\n",
                            " '$11.75 B',\n",
                            " '67.98%',\n",
                            " '2016',\n",
                            " '$7.00 B',\n",
                            " '73.01%',\n",
                            " '2015',\n",
                            " '$4.04 B',\n",
                            " '26.5%',\n",
                            " '2014',\n",
                            " '$3.19 B',\n",
                            " '58.85%',\n",
                            " '2013',\n",
                            " '$2.01 B',\n",
                            " '387.23%',\n",
                            " '2012',\n",
                            " '$0.41 B',\n",
                            " '102.34%',\n",
                            " '2011',\n",
                            " '$0.20 B',\n",
                            " '74.95%',\n",
                            " '2010',\n",
                            " '$0.11 B',\n",
                            " '4.29%',\n",
                            " '2009',\n",
                            " '$0.11 B',\n",
                            " '',\n",
                            " 'Apple\\nAAPL',\n",
                            " '$391.03 B',\n",
                            " '302.51%',\n",
                            " '',\n",
                            " 'Rivian\\nRIVN',\n",
                            " '$4.55 B',\n",
                            " '-95.32%',\n",
                            " '',\n",
                            " 'Lucid Motors\\nLCID',\n",
                            " '$0.73 B',\n",
                            " '-99.25%',\n",
                            " '',\n",
                            " 'NIO\\nNIO',\n",
                            " '$8.85 B',\n",
                            " '-90.88%',\n",
                            " '']"
                        ]
                    },
                    "execution_count": 4,
                    "metadata": {},
                    "output_type": "execute_result"
                }
            ],
            "source": [
                "options = webdriver.ChromeOptions()\n",
                "\n",
                "driver = webdriver.Chrome(\n",
                "    service = Service(ChromeDriverManager().install()),\n",
                "    options = options\n",
                ")\n",
                "\n",
                "URL = \"https://companies-market-cap-copy.vercel.app/index.html\"\n",
                "driver.get(URL)\n",
                "\n",
                "growth_per_year = []\n",
                "\n",
                "growth = driver.find_elements(By.TAG_NAME, \"td\")\n",
                "for element in growth:\n",
                "    growth_per_year.append(element.text)\n",
                "\n",
                "growth_per_year"
            ]
        },
        {
            "cell_type": "code",
            "execution_count": 5,
            "metadata": {},
            "outputs": [
                {
                    "data": {
                        "text/plain": [
                            "[['2024', '$97.15 B', '0.39%'],\n",
                            " ['2023', '$96.77 B', '18.8%'],\n",
                            " ['2022', '$81.46 B', '51.35%'],\n",
                            " ['2021', '$53.82 B', '70.67%'],\n",
                            " ['2020', '$31.53 B', '28.31%'],\n",
                            " ['2019', '$24.57 B', '14.52%'],\n",
                            " ['2018', '$21.46 B', '82.51%'],\n",
                            " ['2017', '$11.75 B', '67.98%'],\n",
                            " ['2016', '$7.00 B', '73.01%'],\n",
                            " ['2015', '$4.04 B', '26.5%'],\n",
                            " ['2014', '$3.19 B', '58.85%'],\n",
                            " ['2013', '$2.01 B', '387.23%'],\n",
                            " ['2012', '$0.41 B', '102.34%'],\n",
                            " ['2011', '$0.20 B', '74.95%'],\n",
                            " ['2010', '$0.11 B', '4.29%'],\n",
                            " ['2009', '$0.11 B', ''],\n",
                            " ['Apple\\nAAPL', '$391.03 B', '302.51%'],\n",
                            " ['', 'Rivian\\nRIVN', '$4.55 B'],\n",
                            " ['-95.32%', '', 'Lucid Motors\\nLCID'],\n",
                            " ['$0.73 B', '-99.25%', ''],\n",
                            " ['NIO\\nNIO', '$8.85 B', '-90.88%'],\n",
                            " ['']]"
                        ]
                    },
                    "execution_count": 5,
                    "metadata": {},
                    "output_type": "execute_result"
                }
            ],
            "source": [
                "data_list_of_lists = [growth_per_year[i:i+3] for i in range(0, len(growth_per_year), 3)]\n",
                "data_list_of_lists"
            ]
        },
        {
            "cell_type": "code",
            "execution_count": 6,
            "metadata": {},
            "outputs": [
                {
                    "data": {
                        "text/plain": [
                            "[['2024', '$97.15 B', '0.39%'],\n",
                            " ['2023', '$96.77 B', '18.8%'],\n",
                            " ['2022', '$81.46 B', '51.35%'],\n",
                            " ['2021', '$53.82 B', '70.67%'],\n",
                            " ['2020', '$31.53 B', '28.31%'],\n",
                            " ['2019', '$24.57 B', '14.52%'],\n",
                            " ['2018', '$21.46 B', '82.51%'],\n",
                            " ['2017', '$11.75 B', '67.98%'],\n",
                            " ['2016', '$7.00 B', '73.01%'],\n",
                            " ['2015', '$4.04 B', '26.5%'],\n",
                            " ['2014', '$3.19 B', '58.85%'],\n",
                            " ['2013', '$2.01 B', '387.23%'],\n",
                            " ['2012', '$0.41 B', '102.34%'],\n",
                            " ['2011', '$0.20 B', '74.95%'],\n",
                            " ['2010', '$0.11 B', '4.29%'],\n",
                            " ['2009', '$0.11 B', '']]"
                        ]
                    },
                    "execution_count": 6,
                    "metadata": {},
                    "output_type": "execute_result"
                }
            ],
            "source": [
                "filtered_data = data_list_of_lists[:16]\n",
                "filtered_data"
            ]
        },
        {
            "cell_type": "code",
            "execution_count": 19,
            "metadata": {},
            "outputs": [
                {
                    "data": {
                        "text/html": [
                            "<div>\n",
                            "<style scoped>\n",
                            "    .dataframe tbody tr th:only-of-type {\n",
                            "        vertical-align: middle;\n",
                            "    }\n",
                            "\n",
                            "    .dataframe tbody tr th {\n",
                            "        vertical-align: top;\n",
                            "    }\n",
                            "\n",
                            "    .dataframe thead th {\n",
                            "        text-align: right;\n",
                            "    }\n",
                            "</style>\n",
                            "<table border=\"1\" class=\"dataframe\">\n",
                            "  <thead>\n",
                            "    <tr style=\"text-align: right;\">\n",
                            "      <th></th>\n",
                            "      <th>Year</th>\n",
                            "      <th>Revenue</th>\n",
                            "    </tr>\n",
                            "  </thead>\n",
                            "  <tbody>\n",
                            "    <tr>\n",
                            "      <th>15</th>\n",
                            "      <td>2009</td>\n",
                            "      <td>0.11</td>\n",
                            "    </tr>\n",
                            "    <tr>\n",
                            "      <th>14</th>\n",
                            "      <td>2010</td>\n",
                            "      <td>0.11</td>\n",
                            "    </tr>\n",
                            "    <tr>\n",
                            "      <th>13</th>\n",
                            "      <td>2011</td>\n",
                            "      <td>0.20</td>\n",
                            "    </tr>\n",
                            "    <tr>\n",
                            "      <th>12</th>\n",
                            "      <td>2012</td>\n",
                            "      <td>0.41</td>\n",
                            "    </tr>\n",
                            "    <tr>\n",
                            "      <th>11</th>\n",
                            "      <td>2013</td>\n",
                            "      <td>2.01</td>\n",
                            "    </tr>\n",
                            "    <tr>\n",
                            "      <th>10</th>\n",
                            "      <td>2014</td>\n",
                            "      <td>3.19</td>\n",
                            "    </tr>\n",
                            "    <tr>\n",
                            "      <th>9</th>\n",
                            "      <td>2015</td>\n",
                            "      <td>4.04</td>\n",
                            "    </tr>\n",
                            "    <tr>\n",
                            "      <th>8</th>\n",
                            "      <td>2016</td>\n",
                            "      <td>7.00</td>\n",
                            "    </tr>\n",
                            "    <tr>\n",
                            "      <th>7</th>\n",
                            "      <td>2017</td>\n",
                            "      <td>11.75</td>\n",
                            "    </tr>\n",
                            "    <tr>\n",
                            "      <th>6</th>\n",
                            "      <td>2018</td>\n",
                            "      <td>21.46</td>\n",
                            "    </tr>\n",
                            "    <tr>\n",
                            "      <th>5</th>\n",
                            "      <td>2019</td>\n",
                            "      <td>24.57</td>\n",
                            "    </tr>\n",
                            "    <tr>\n",
                            "      <th>4</th>\n",
                            "      <td>2020</td>\n",
                            "      <td>31.53</td>\n",
                            "    </tr>\n",
                            "    <tr>\n",
                            "      <th>3</th>\n",
                            "      <td>2021</td>\n",
                            "      <td>53.82</td>\n",
                            "    </tr>\n",
                            "    <tr>\n",
                            "      <th>2</th>\n",
                            "      <td>2022</td>\n",
                            "      <td>81.46</td>\n",
                            "    </tr>\n",
                            "    <tr>\n",
                            "      <th>1</th>\n",
                            "      <td>2023</td>\n",
                            "      <td>96.77</td>\n",
                            "    </tr>\n",
                            "    <tr>\n",
                            "      <th>0</th>\n",
                            "      <td>2024</td>\n",
                            "      <td>97.15</td>\n",
                            "    </tr>\n",
                            "  </tbody>\n",
                            "</table>\n",
                            "</div>"
                        ],
                        "text/plain": [
                            "    Year Revenue\n",
                            "15  2009   0.11 \n",
                            "14  2010   0.11 \n",
                            "13  2011   0.20 \n",
                            "12  2012   0.41 \n",
                            "11  2013   2.01 \n",
                            "10  2014   3.19 \n",
                            "9   2015   4.04 \n",
                            "8   2016   7.00 \n",
                            "7   2017  11.75 \n",
                            "6   2018  21.46 \n",
                            "5   2019  24.57 \n",
                            "4   2020  31.53 \n",
                            "3   2021  53.82 \n",
                            "2   2022  81.46 \n",
                            "1   2023  96.77 \n",
                            "0   2024  97.15 "
                        ]
                    },
                    "execution_count": 19,
                    "metadata": {},
                    "output_type": "execute_result"
                }
            ],
            "source": [
                "import pandas as pd \n",
                "\n",
                "ds = pd.DataFrame(filtered_data, columns = ['Year', 'Revenue', 'Change'])\n",
                "\n",
                "ds[\"Revenue\"] = ds[\"Revenue\"].astype(str)\n",
                "ds[\"Revenue\"] = ds[\"Revenue\"].str.replace('$', '').str.replace('B', '')\n",
                "\n",
                "ds = ds.drop('Change', axis = 1)\n",
                "ds = ds.sort_values(\"Year\", ascending = True)\n",
                "ds\n"
            ]
        },
        {
            "cell_type": "code",
            "execution_count": 21,
            "metadata": {},
            "outputs": [],
            "source": [
                "conn = sqlite3.connect(\"tesla_revenues.db\")\n",
                "cursor = conn.cursor()\n",
                "\n",
                "cursor.execute(\"\"\"\n",
                "CREATE TABLE IF NOT EXISTS ingresos (\n",
                "    fecha TEXT,\n",
                "    ingresos REAL\n",
                ")\n",
                "\"\"\")\n",
                "\n",
                "for index, row in ds.iterrows():\n",
                "    cursor.execute(\"INSERT INTO ingresos (fecha, ingresos) VALUES (?, ?)\", (row[\"Year\"], row[\"Revenue\"]))\n",
                "\n",
                "conn.commit()\n",
                "conn.close()"
            ]
        },
        {
            "cell_type": "code",
            "execution_count": 38,
            "metadata": {},
            "outputs": [
                {
                    "data": {
                        "image/png": "[encoded data removed]",
                        "text/plain": [
                            "<Figure size 1000x600 with 1 Axes>"
                        ]
                    },
                    "metadata": {},
                    "output_type": "display_data"
                }
            ],
            "source": [
                "plt.figure(figsize=(10, 6))\n",
                "plt.plot(ds[\"Year\"], ds[\"Revenue\"], marker='o', label=\"Revenue\")\n",
                "plt.title(\"Ingresos anuales de Tesla\")\n",
                "plt.xlabel(\"Fecha\")\n",
                "plt.ylabel(\"Ingresos en billones(USD)\")\n",
                "plt.xticks(rotation=45)\n",
                "plt.yticks()\n",
                "plt.legend()\n",
                "\n",
                "plt.savefig(\"revenue_plot.png\")\n",
                "plt.show()"
            ]
        }
    ],
    "metadata": {
        "kernelspec": {
            "display_name": "Python 3",
            "language": "python",
            "name": "python3"
        },
        "language_info": {
            "codemirror_mode": {
                "name": "ipython",
                "version": 3
            },
            "file_extension": ".py",
            "mimetype": "text/x-python",
            "name": "python",
            "nbconvert_exporter": "python",
            "pygments_lexer": "ipython3",
            "version": "3.12.5"
        },
        "orig_nbformat": 4
    },
    "nbformat": 4,
    "nbformat_minor": 2
}
